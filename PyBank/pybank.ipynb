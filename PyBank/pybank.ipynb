{
 "cells": [
  {
   "cell_type": "code",
   "execution_count": 1,
   "id": "456b5f75-861a-4f72-a9a4-82bde6088f0c",
   "metadata": {},
   "outputs": [],
   "source": [
    "import csv\n",
    "from pathlib import Path"
   ]
  },
  {
   "cell_type": "code",
   "execution_count": 2,
   "id": "927ac688-2b35-4855-9b48-4200709c8d1e",
   "metadata": {},
   "outputs": [],
   "source": [
    "load_file = Path(\"budget_data.csv\")\n",
    "output_file = Path(\"budget_analysis.txt\")"
   ]
  },
  {
   "cell_type": "code",
   "execution_count": null,
   "id": "9ad21446-5c29-4066-a187-98a484c35971",
   "metadata": {},
   "outputs": [],
   "source": [
    "# start variables to load into analysis file \n",
    "total_months = 0\n",
    "month_of_change = [] \n",
    "net_change_list = []\n",
    "greatest_increase = [\"\", 0]\n",
    "greatest_decrease = [\"\", 999999999999]\n",
    "total_net = 0"
   ]
  },
  {
   "cell_type": "code",
   "execution_count": null,
   "id": "4d76e6ea-ffde-4cd1-81ec-2847a485d3eb",
   "metadata": {},
   "outputs": [],
   "source": [
    "with open(load_file) as financial_data:\n",
    "    reader = csv.reader(financial_data)\n",
    "    \n",
    "    header = next(reader)\n",
    "    \n",
    "    first_row = next(reader)\n",
    "    \n",
    "    \n",
    "    \n",
    "    "
   ]
  },
  {
   "cell_type": "code",
   "execution_count": null,
   "id": "5516f747-db84-40c3-a157-fb968f819f1a",
   "metadata": {},
   "outputs": [],
   "source": [
    "with open(output_file, \"w\") as output:\n",
    "    output.write(f\"Financial Analysis\"\\n)\n",
    "    output.wirte(f\"------------------------\"\\n)\n",
    "    output.write(f\"Total Months: {total_months}\"\\n)\n",
    "    output.write(f\"Total: {total_net}\"\\n)\n",
    "    output.write(f\"Average Change: {avg_change}\"\\n)\n",
    "    output.write(f\"Greatest Increase in Profits: {greatest_inc[0]} (${greatest_inc[1]})\"\\n)\n",
    "    output.write(f\"Greatest Decrease in Profits: {greatest_dec[0]} (${greatest_dec[1]})\"\\n)"
   ]
  }
 ],
 "metadata": {
  "kernelspec": {
   "display_name": "Python 3",
   "language": "python",
   "name": "python3"
  },
  "language_info": {
   "codemirror_mode": {
    "name": "ipython",
    "version": 3
   },
   "file_extension": ".py",
   "mimetype": "text/x-python",
   "name": "python",
   "nbconvert_exporter": "python",
   "pygments_lexer": "ipython3",
   "version": "3.7.7"
  }
 },
 "nbformat": 4,
 "nbformat_minor": 5
}
